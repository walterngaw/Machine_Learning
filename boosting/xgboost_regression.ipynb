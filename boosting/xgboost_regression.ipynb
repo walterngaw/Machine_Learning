{
 "cells": [
  {
   "cell_type": "code",
   "execution_count": 75,
   "metadata": {},
   "outputs": [],
   "source": [
    "import pandas as pd\n",
    "import numpy as np\n",
    "import matplotlib.pyplot as plt\n",
    "\n",
    "from sklearn.model_selection import train_test_split, StratifiedKFold, GridSearchCV\n",
    "from sklearn.preprocessing import LabelEncoder\n",
    "from sklearn.metrics import mean_absolute_error\n",
    "import xgboost as xgb\n",
    "\n",
    "from sklearn.datasets import load_diabetes\n",
    "from imblearn.over_sampling import SMOTE, RandomOverSampler"
   ]
  },
  {
   "cell_type": "code",
   "execution_count": 25,
   "metadata": {
    "collapsed": true
   },
   "outputs": [],
   "source": [
    "GOAL = ['target']\n",
    "FEATURES = ['age','sex','bmi','bp',\n",
    "            's1','s2','s3',\n",
    "            's4','s5','s6']\n",
    "IGNORED_FEATURES = [] # a placeholder for irrelevant features\n",
    "TRAIN_FEATURES = list(set([c for c in FEATURES if c not in IGNORED_FEATURES]))\n",
    "CATEGORICAL_FEATURES = [] # features that require pre-processing\n",
    "\n",
    "over_sampling = False"
   ]
  },
  {
   "cell_type": "code",
   "execution_count": 45,
   "metadata": {
    "collapsed": true
   },
   "outputs": [],
   "source": [
    "def run_load_data():\n",
    "    print ('load_data - START')\n",
    "    diabetes = load_diabetes()\n",
    "    data = pd.DataFrame(data= np.c_[diabetes['data'], \\\n",
    "                                     diabetes['target']],\n",
    "                        columns= ['age','sex','bmi','bp',\n",
    "                                  's1','s2','s3',\n",
    "                                  's4','s5','s6',\n",
    "                                  'target'] \n",
    "                        )\n",
    "    \n",
    "    print ('load_data - END')\n",
    "    return data"
   ]
  },
  {
   "cell_type": "code",
   "execution_count": 27,
   "metadata": {
    "collapsed": true
   },
   "outputs": [],
   "source": [
    "def run_train_test_split(data):\n",
    "    print ('train_test_split - START')\n",
    "    train_df, test_df = train_test_split(data, test_size=0.2, random_state=42)\n",
    "    print ('train_test_split - END')\n",
    "    return train_df, test_df"
   ]
  },
  {
   "cell_type": "code",
   "execution_count": 28,
   "metadata": {
    "collapsed": true
   },
   "outputs": [],
   "source": [
    "def run_pre_processing(train_df, test_df):\n",
    "    print ('pre_processing - START')  \n",
    "    # TODO: Fill NULL with Mean / Median / -1\n",
    "    \n",
    "    # Pre-processing non-numeric values using numeric encoding\n",
    "    # Why use numeric encoding over one hot encoding:\n",
    "    # https://medium.com/data-design/visiting-categorical-features-and-encoding-in-decision-trees-53400fa65931\n",
    "    for f in CATEGORICAL_FEATURES:\n",
    "        lbl = LabelEncoder()\n",
    "        lbl.fit(list(train_df[f].values) + list(test_df[f].values))\n",
    "        train_df[f] = lbl.transform(list(train_df[f].values))\n",
    "        test_df[f] = lbl.transform(list(test_df[f].values))\n",
    "    print ('pre_processing - END') \n",
    "    return train_df, test_df"
   ]
  },
  {
   "cell_type": "code",
   "execution_count": 29,
   "metadata": {
    "collapsed": true
   },
   "outputs": [],
   "source": [
    "def run_x_y_split(train_df, test_df):\n",
    "    print ('x_y_split - START')\n",
    "    X_train = train_df[TRAIN_FEATURES]\n",
    "    y_train = train_df[GOAL]\n",
    "    X_test = test_df[TRAIN_FEATURES]\n",
    "    y_test = test_df[GOAL]\n",
    "    print ('x_y_split - END')\n",
    "    return X_train, y_train, X_test, y_test"
   ]
  },
  {
   "cell_type": "code",
   "execution_count": 30,
   "metadata": {
    "collapsed": true
   },
   "outputs": [],
   "source": [
    "def run_over_sampling(X_train, y_train):\n",
    "    print ('over_sampling - START')\n",
    "#     TODO: Figure how to oversample using SMOTE \n",
    "#     X_train, y_train = SMOTE().fit_sample(X_train, y_train)\n",
    "#     X_train, y_train = RandomOverSampler().fit_sample(X_train, y_train)\n",
    "    print ('over_sampling - END')\n",
    "    return X_train, y_train"
   ]
  },
  {
   "cell_type": "code",
   "execution_count": 62,
   "metadata": {
    "collapsed": true
   },
   "outputs": [],
   "source": [
    "def run_grid_search(X_train, y_train):\n",
    "    print ('grid_search - START')\n",
    "    dmatrix = xgb.DMatrix(data=X_train, label=y_train)\n",
    "    gbm_param_grid = {\n",
    "        'learning_rate': [0.1, 0.01],\n",
    "        'max_depth': [2, 3],\n",
    "        'n_estimators': [50,100],\n",
    "        'gamma': [2, 5],\n",
    "        'colsample_bytree': [0.3, 0.7],\n",
    "        'colsample_bylevel': [0.8, 1]\n",
    "    }\n",
    "    gbm = xgb.XGBRegressor()\n",
    "    \n",
    "    # Perform grid search\n",
    "    grid = GridSearchCV(estimator=gbm, param_grid=gbm_param_grid,\n",
    "                            scoring='neg_mean_absolute_error', cv=5, verbose=1)\n",
    "    grid.fit(X_train, y_train)\n",
    "\n",
    "    # Print the best parameters & metric\n",
    "    print(\"Best parameters found: \", grid.best_params_)\n",
    "    print(\"Best MAE found: \", grid.best_score_)\n",
    "\n",
    "    best_learning_rate = grid.best_params_[\"learning_rate\"]\n",
    "    best_max_depth = grid.best_params_[\"max_depth\"]\n",
    "    best_n_estimators = grid.best_params_[\"n_estimators\"]    \n",
    "    best_gamma = grid.best_params_[\"gamma\"]   \n",
    "    best_colsample_bytree = grid.best_params_[\"colsample_bytree\"] \n",
    "    best_colsample_bylevel = grid.best_params_[\"colsample_bylevel\"]     \n",
    "    \n",
    "    print ('grid_search - END')    \n",
    "    return best_learning_rate, best_max_depth, best_n_estimators, best_gamma, best_colsample_bytree, best_colsample_bylevel"
   ]
  },
  {
   "cell_type": "code",
   "execution_count": 81,
   "metadata": {
    "collapsed": true
   },
   "outputs": [],
   "source": [
    "def run_cross_validation(X_train, y_train, best_learning_rate, best_max_depth, best_n_estimators, best_gamma, best_colsample_bytree, best_colsample_bylevel):\n",
    "    print ('cross_validation - START')\n",
    "    dmatrix = xgb.DMatrix(data=X_train, label=y_train)\n",
    "    params = {\"objective\":\"reg:linear\", \n",
    "              \"learning_rate\":best_learning_rate,\n",
    "              \"max_depth\":best_max_depth,\n",
    "              \"n_estimators\":best_n_estimators,\n",
    "              \"gamma\":best_gamma,\n",
    "              \"colsample_bytree\":best_colsample_bytree,\n",
    "              \"colsample_bylevel\":best_colsample_bylevel\n",
    "             }\n",
    "    \n",
    "    cv_results = xgb.cv(dtrain=dmatrix,\n",
    "                        params=params,\n",
    "                        nfold=5,\n",
    "                        num_boost_round=10,\n",
    "                        metrics=\"mae\",\n",
    "                        as_pandas=True,\n",
    "                        seed=123)\n",
    "    print(cv_results)\n",
    "    model_evaluation_metric = cv_results[\"test-mae-mean\"].iloc[-1]\n",
    "    print \"cross-validation model mae on train dataset: \", model_evaluation_metric\n",
    "    print ('cross_validation - END')    "
   ]
  },
  {
   "cell_type": "code",
   "execution_count": 33,
   "metadata": {
    "collapsed": true
   },
   "outputs": [],
   "source": [
    "def run_train_model(X_train, y_train, best_learning_rate, best_max_depth, best_n_estimators, best_gamma, best_colsample_bytree, best_colsample_bylevel):\n",
    "    print ('train_model - START')    \n",
    "    model = xgb.XGBClassifier(objective='reg:linear',\n",
    "                              learning_rate=best_learning_rate,\n",
    "                              max_depth=best_max_depth,\n",
    "                              n_estimators=best_n_estimators,\n",
    "                              gamma=best_gamma,\n",
    "                              colsample_bytree=best_colsample_bytree,\n",
    "                              colsample_bylevel=best_colsample_bylevel,\n",
    "                              silent=True,\n",
    "                              seed=123\n",
    "                             )\n",
    "    \n",
    "    model.fit(X_train, y_train)\n",
    "    print ('train_model - END')   \n",
    "    return model"
   ]
  },
  {
   "cell_type": "code",
   "execution_count": 34,
   "metadata": {
    "collapsed": true
   },
   "outputs": [],
   "source": [
    "def run_prediction(model, X_test):\n",
    "    print ('run_prediction - START')  \n",
    "    prediction = model.predict(data=X_test)\n",
    "    print ('run_prediction - END')  \n",
    "    return prediction"
   ]
  },
  {
   "cell_type": "code",
   "execution_count": 80,
   "metadata": {},
   "outputs": [],
   "source": [
    "def run_model_evaluation_on_test(prediction, y_test):\n",
    "    print ('model_evaluation_on_test - START') \n",
    "    prediction = pd.DataFrame(data = prediction, index=y_test.index, columns = ['target'])\n",
    "    model_evaluation_metric = mean_absolute_error(y_test, prediction)\n",
    "    print \"model mean absolute error on test dataset: \", model_evaluation_metric\n",
    "    print ('model_evaluation_on_test - END') "
   ]
  },
  {
   "cell_type": "code",
   "execution_count": 36,
   "metadata": {
    "collapsed": true
   },
   "outputs": [],
   "source": [
    "def run_feature_importance(model):\n",
    "    print ('feature_importance - START') \n",
    "    xgb.plot_importance(booster=model)\n",
    "    plt.title('Variable Importance')\n",
    "    plt.xlabel('Relative Importance')\n",
    "    plt.ylabel('Relative Importance')\n",
    "    plt.tight_layout()\n",
    "    plt.show()\n",
    "    print ('feature_importance - END')   "
   ]
  },
  {
   "cell_type": "code",
   "execution_count": 83,
   "metadata": {},
   "outputs": [
    {
     "name": "stdout",
     "output_type": "stream",
     "text": [
      "load_data - START\n",
      "load_data - END\n",
      "train_test_split - START\n",
      "train_test_split - END\n",
      "pre_processing - START\n",
      "pre_processing - END\n",
      "x_y_split - START\n",
      "x_y_split - END\n",
      "grid_search - START\n",
      "Fitting 5 folds for each of 64 candidates, totalling 320 fits\n"
     ]
    },
    {
     "name": "stderr",
     "output_type": "stream",
     "text": [
      "[Parallel(n_jobs=1)]: Done 320 out of 320 | elapsed:   16.0s finished\n"
     ]
    },
    {
     "name": "stdout",
     "output_type": "stream",
     "text": [
      "('Best parameters found: ', {'colsample_bytree': 0.3, 'colsample_bylevel': 1, 'learning_rate': 0.1, 'n_estimators': 100, 'max_depth': 2, 'gamma': 2})\n",
      "('Best MAE found: ', -47.385369384592721)\n",
      "grid_search - END\n",
      "cross_validation - START\n",
      "   test-mae-mean  test-mae-std  train-mae-mean  train-mae-std\n",
      "0     138.313701      8.839930      138.141351       2.080386\n",
      "1     124.423752      8.613078      124.532304       1.855818\n",
      "2     112.031496      8.783903      112.286780       1.668665\n",
      "3     101.373650      8.445143      101.391621       1.555562\n",
      "4      92.158304      7.947412       91.927785       1.437951\n",
      "5      84.450588      7.611673       83.832399       1.399173\n",
      "6      78.245178      7.124827       77.198817       1.351929\n",
      "7      72.774908      6.559396       71.542570       1.143166\n",
      "8      68.104208      6.149793       66.790793       1.068689\n",
      "9      64.703413      5.696008       62.933640       1.088802\n",
      "cross-validation model mae on train dataset:  64.7034126\n",
      "cross_validation - END\n",
      "train_model - START\n",
      "train_model - END\n",
      "run_prediction - START\n",
      "run_prediction - END\n",
      "model_evaluation_on_test - START\n",
      "model mean absolute error on test dataset:  59.606741573\n",
      "model_evaluation_on_test - END\n",
      "feature_importance - START\n"
     ]
    },
    {
     "data": {
      "image/png": "[encoded data removed]",
      "text/plain": [
       "<matplotlib.figure.Figure at 0x1a0cf91dd0>"
      ]
     },
     "metadata": {},
     "output_type": "display_data"
    },
    {
     "name": "stdout",
     "output_type": "stream",
     "text": [
      "feature_importance - END\n"
     ]
    }
   ],
   "source": [
    "def xgboost_regression():\n",
    "    data = run_load_data()\n",
    "    train_df, test_df = run_train_test_split(data) # Don't have to run this if you given data is already splitted into train & test\n",
    "    train_df, test_df = run_pre_processing(train_df, test_df)\n",
    "    X_train, y_train, X_test, y_test = run_x_y_split(train_df, test_df)\n",
    "    if over_sampling:\n",
    "        X_train, y_train = run_over_sampling(X_train, y_train)\n",
    "    best_learning_rate, best_max_depth, best_n_estimators, best_gamma, best_colsample_bytree,  best_colsample_bylevel = run_grid_search(X_train, y_train)\n",
    "    run_cross_validation(X_train, y_train, best_learning_rate, best_max_depth, best_n_estimators, best_gamma, best_colsample_bytree, best_colsample_bylevel)\n",
    "    model = run_train_model(X_train, y_train, best_learning_rate, best_max_depth, best_n_estimators, best_gamma, best_colsample_bytree, best_colsample_bylevel)\n",
    "    prediction = run_prediction(model, X_test)\n",
    "    run_model_evaluation_on_test(prediction, y_test)\n",
    "    run_feature_importance(model)\n",
    "xgboost_regression()"
   ]
  },
  {
   "cell_type": "code",
   "execution_count": null,
   "metadata": {
    "collapsed": true
   },
   "outputs": [],
   "source": []
  }
 ],
 "metadata": {
  "kernelspec": {
   "display_name": "Python 2",
   "language": "python",
   "name": "python2"
  },
  "language_info": {
   "codemirror_mode": {
    "name": "ipython",
    "version": 2
   },
   "file_extension": ".py",
   "mimetype": "text/x-python",
   "name": "python",
   "nbconvert_exporter": "python",
   "pygments_lexer": "ipython2",
   "version": "2.7.14"
  }
 },
 "nbformat": 4,
 "nbformat_minor": 2
}
