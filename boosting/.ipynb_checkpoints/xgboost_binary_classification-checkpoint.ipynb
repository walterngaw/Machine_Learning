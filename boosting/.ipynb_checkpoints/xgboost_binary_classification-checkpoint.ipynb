{
 "cells": [
  {
   "cell_type": "code",
   "execution_count": 18,
   "metadata": {
    "collapsed": true
   },
   "outputs": [],
   "source": [
    "import pandas as pd\n",
    "import numpy as np\n",
    "import matplotlib.pyplot as plt\n",
    "\n",
    "from sklearn.model_selection import train_test_split, StratifiedKFold, GridSearchCV\n",
    "from sklearn.preprocessing import LabelEncoder\n",
    "from sklearn.metrics import accuracy_score\n",
    "import xgboost as xgb\n",
    "\n",
    "from sklearn.datasets import load_breast_cancer\n",
    "from imblearn.over_sampling import SMOTE, RandomOverSampler"
   ]
  },
  {
   "cell_type": "code",
   "execution_count": 2,
   "metadata": {
    "collapsed": true
   },
   "outputs": [],
   "source": [
    "GOAL = ['target']\n",
    "FEATURES = ['mean radius', 'mean texture', 'mean perimeter', 'mean area',\n",
    "           'mean smoothness', 'mean compactness', 'mean concavity',\n",
    "           'mean concave points', 'mean symmetry', 'mean fractal dimension',\n",
    "           'radius error', 'texture error', 'perimeter error', 'area error',\n",
    "           'smoothness error', 'compactness error', 'concavity error',\n",
    "           'concave points error', 'symmetry error', 'fractal dimension error',\n",
    "           'worst radius', 'worst texture', 'worst perimeter', 'worst area',\n",
    "           'worst smoothness', 'worst compactness', 'worst concavity',\n",
    "           'worst concave points', 'worst symmetry', 'worst fractal dimension'\n",
    "           ]\n",
    "IGNORED_FEATURES = [] # a placeholder for irrelevant features\n",
    "TRAIN_FEATURES = list(set([c for c in FEATURES if c not in IGNORED_FEATURES]))\n",
    "CATEGORICAL_FEATURES = [] # features that require pre-processing\n",
    "\n",
    "over_sampling = False"
   ]
  },
  {
   "cell_type": "code",
   "execution_count": 3,
   "metadata": {
    "collapsed": true
   },
   "outputs": [],
   "source": [
    "def run_load_data():\n",
    "    print ('load_data - START')\n",
    "    breast_cancer = load_breast_cancer()\n",
    "    data = pd.DataFrame(data= np.c_[breast_cancer['data'], \\\n",
    "                                     breast_cancer['target']],\n",
    "                        columns= ['mean radius', 'mean texture', 'mean perimeter', 'mean area',\n",
    "                               'mean smoothness', 'mean compactness', 'mean concavity',\n",
    "                               'mean concave points', 'mean symmetry', 'mean fractal dimension',\n",
    "                               'radius error', 'texture error', 'perimeter error', 'area error',\n",
    "                               'smoothness error', 'compactness error', 'concavity error',\n",
    "                               'concave points error', 'symmetry error', 'fractal dimension error',\n",
    "                               'worst radius', 'worst texture', 'worst perimeter', 'worst area',\n",
    "                               'worst smoothness', 'worst compactness', 'worst concavity',\n",
    "                               'worst concave points', 'worst symmetry', 'worst fractal dimension', \n",
    "                                'target'] \n",
    "                        )\n",
    "    \n",
    "    print ('load_data - END')\n",
    "    return data"
   ]
  },
  {
   "cell_type": "code",
   "execution_count": 4,
   "metadata": {
    "collapsed": true
   },
   "outputs": [],
   "source": [
    "def run_train_test_split(data):\n",
    "    print ('train_test_split - START')\n",
    "    train_df, test_df = train_test_split(data, test_size=0.2, random_state=42)\n",
    "    print ('train_test_split - END')\n",
    "    return train_df, test_df"
   ]
  },
  {
   "cell_type": "code",
   "execution_count": 5,
   "metadata": {
    "collapsed": true
   },
   "outputs": [],
   "source": [
    "def run_pre_processing(train_df, test_df):\n",
    "    print ('pre_processing - START')  \n",
    "    # TODO: Fill NULL with Mean / Median / -1\n",
    "    \n",
    "    # Pre-processing non-numeric values using numeric encoding\n",
    "    # Why use numeric encoding over one hot encoding:\n",
    "    # https://medium.com/data-design/visiting-categorical-features-and-encoding-in-decision-trees-53400fa65931\n",
    "    for f in CATEGORICAL_FEATURES:\n",
    "        lbl = LabelEncoder()\n",
    "        lbl.fit(list(train_df[f].values) + list(test_df[f].values))\n",
    "        train_df[f] = lbl.transform(list(train_df[f].values))\n",
    "        test_df[f] = lbl.transform(list(test_df[f].values))\n",
    "    print ('pre_processing - END') \n",
    "    return train_df, test_df"
   ]
  },
  {
   "cell_type": "code",
   "execution_count": 6,
   "metadata": {
    "collapsed": true
   },
   "outputs": [],
   "source": [
    "def run_x_y_split(train_df, test_df):\n",
    "    print ('x_y_split - START')\n",
    "    X_train = train_df[TRAIN_FEATURES]\n",
    "    y_train = train_df[GOAL]\n",
    "    X_test = test_df[TRAIN_FEATURES]\n",
    "    y_test = test_df[GOAL]\n",
    "    print ('x_y_split - END')\n",
    "    return X_train, y_train, X_test, y_test"
   ]
  },
  {
   "cell_type": "code",
   "execution_count": 7,
   "metadata": {
    "collapsed": true
   },
   "outputs": [],
   "source": [
    "def run_over_sampling(X_train, y_train):\n",
    "    print ('over_sampling - START')\n",
    "#     TODO: Figure how to oversample using SMOTE \n",
    "#     X_train, y_train = SMOTE().fit_sample(X_train, y_train)\n",
    "#     X_train, y_train = RandomOverSampler().fit_sample(X_train, y_train)\n",
    "    print ('over_sampling - END')\n",
    "    return X_train, y_train"
   ]
  },
  {
   "cell_type": "code",
   "execution_count": 8,
   "metadata": {
    "collapsed": true
   },
   "outputs": [],
   "source": [
    "def run_grid_search(X_train, y_train):\n",
    "    print ('grid_search - START')\n",
    "    dmatrix = xgb.DMatrix(data=X_train, label=y_train)\n",
    "    gbm_param_grid = {\n",
    "        'learning_rate': [0.1, 0.01],\n",
    "        'max_depth': [2, 3],\n",
    "        'n_estimators': [50],\n",
    "        'gamma': [2, 5],\n",
    "        'colsample_bytree': [0.3, 0.7],\n",
    "        'colsample_bylevel': [0.3, 0.7]\n",
    "    }\n",
    "    gbm = xgb.XGBClassifier()\n",
    "    \n",
    "    # Perform grid search\n",
    "    grid = GridSearchCV(estimator=gbm, param_grid=gbm_param_grid,\n",
    "                            scoring='roc_auc', cv=5, verbose=1)\n",
    "    grid.fit(X_train, y_train)\n",
    "\n",
    "    # Print the best parameters & metric\n",
    "    print(\"Best parameters found: \", grid.best_params_)\n",
    "    print(\"Best AUC found: \", grid.best_score_)\n",
    "\n",
    "    best_learning_rate = grid.best_params_[\"learning_rate\"]\n",
    "    best_max_depth = grid.best_params_[\"max_depth\"]\n",
    "    best_n_estimators = grid.best_params_[\"n_estimators\"]    \n",
    "    best_gamma = grid.best_params_[\"gamma\"]   \n",
    "    best_colsample_bytree = grid.best_params_[\"colsample_bytree\"] \n",
    "    best_colsample_bylevel = grid.best_params_[\"colsample_bylevel\"]     \n",
    "    \n",
    "    print ('grid_search - END')    \n",
    "    return best_learning_rate, best_max_depth, best_n_estimators, best_gamma, best_colsample_bytree, best_colsample_bylevel"
   ]
  },
  {
   "cell_type": "code",
   "execution_count": 26,
   "metadata": {
    "collapsed": true
   },
   "outputs": [],
   "source": [
    "def run_cross_validation(X_train, y_train, best_learning_rate, best_max_depth, best_n_estimators, best_gamma, best_colsample_bytree, best_colsample_bylevel):\n",
    "    print ('cross_validation - START')\n",
    "    dmatrix = xgb.DMatrix(data=X_train, label=y_train)\n",
    "    params = {\"objective\":\"binary:logistic\", \n",
    "              \"learning_rate\":best_learning_rate,\n",
    "              \"max_depth\":best_max_depth,\n",
    "              \"n_estimators\":best_n_estimators,\n",
    "              \"gamma\":best_gamma,\n",
    "              \"colsample_bytree\":best_colsample_bytree,\n",
    "              \"colsample_bylevel\":best_colsample_bylevel\n",
    "             }\n",
    "    \n",
    "    cv_results = xgb.cv(dtrain=dmatrix,\n",
    "                        params=params,\n",
    "                        nfold=5,\n",
    "                        num_boost_round=10,\n",
    "                        metrics=\"auc\",\n",
    "                        as_pandas=True,\n",
    "                        seed=123)\n",
    "    print(cv_results)\n",
    "    model_evaluation_metric = cv_results[\"test-auc-mean\"].iloc[-1]\n",
    "    print \"cross-validation model accuracy on train dataset: \", model_evaluation_metric\n",
    "    print ('cross_validation - END')    "
   ]
  },
  {
   "cell_type": "code",
   "execution_count": 10,
   "metadata": {
    "collapsed": true
   },
   "outputs": [],
   "source": [
    "def run_train_model(X_train, y_train, best_learning_rate, best_max_depth, best_n_estimators, best_gamma, best_colsample_bytree, best_colsample_bylevel):\n",
    "    print ('train_model - START')    \n",
    "    model = xgb.XGBClassifier(objective='binary:logistic',\n",
    "                              learning_rate=best_learning_rate,\n",
    "                              max_depth=best_max_depth,\n",
    "                              n_estimators=best_n_estimators,\n",
    "                              gamma=best_gamma,\n",
    "                              colsample_bytree=best_colsample_bytree,\n",
    "                              colsample_bylevel=best_colsample_bylevel,\n",
    "                              silent=True,\n",
    "                              seed=123\n",
    "                             )\n",
    "    \n",
    "    model.fit(X_train, y_train)\n",
    "    print ('train_model - END')   \n",
    "    return model"
   ]
  },
  {
   "cell_type": "code",
   "execution_count": 11,
   "metadata": {
    "collapsed": true
   },
   "outputs": [],
   "source": [
    "def run_prediction(model, X_test):\n",
    "    print ('run_prediction - START')  \n",
    "    prediction = model.predict(data=X_test)\n",
    "    print ('run_prediction - END')  \n",
    "    return prediction"
   ]
  },
  {
   "cell_type": "code",
   "execution_count": 24,
   "metadata": {
    "collapsed": true
   },
   "outputs": [],
   "source": [
    "def run_model_evaluation_on_test(prediction, y_test):\n",
    "    print ('model_evaluation_on_test - START') \n",
    "    prediction = pd.DataFrame(data = prediction, index=y_test.index, columns = ['target'])\n",
    "    model_evaluation_metric = accuracy_score(y_test, prediction)\n",
    "    print \"model accuracy on test dataset: \", model_evaluation_metric\n",
    "    print ('model_evaluation_on_test - END') "
   ]
  },
  {
   "cell_type": "code",
   "execution_count": 13,
   "metadata": {
    "collapsed": true
   },
   "outputs": [],
   "source": [
    "def run_feature_importance(model):\n",
    "    print ('feature_importance - START') \n",
    "    xgb.plot_importance(booster=model)\n",
    "    plt.title('Feature Importance')\n",
    "    plt.xlabel('Relative Importance')\n",
    "    plt.ylabel('Features')\n",
    "    plt.tight_layout()\n",
    "    plt.show()\n",
    "    print ('feature_importance - END')   "
   ]
  },
  {
   "cell_type": "code",
   "execution_count": 27,
   "metadata": {
    "scrolled": true
   },
   "outputs": [
    {
     "name": "stdout",
     "output_type": "stream",
     "text": [
      "load_data - START\n",
      "load_data - END\n",
      "train_test_split - START\n",
      "train_test_split - END\n",
      "pre_processing - START\n",
      "pre_processing - END\n",
      "x_y_split - START\n",
      "x_y_split - END\n",
      "grid_search - START\n",
      "Fitting 5 folds for each of 32 candidates, totalling 160 fits\n"
     ]
    },
    {
     "name": "stderr",
     "output_type": "stream",
     "text": [
      "[Parallel(n_jobs=1)]: Done 160 out of 160 | elapsed:    7.2s finished\n"
     ]
    },
    {
     "name": "stdout",
     "output_type": "stream",
     "text": [
      "('Best parameters found: ', {'colsample_bytree': 0.7, 'colsample_bylevel': 0.3, 'learning_rate': 0.1, 'n_estimators': 50, 'max_depth': 3, 'gamma': 2})\n",
      "('Best AUC found: ', 0.99108118314908111)\n",
      "grid_search - END\n",
      "cross_validation - START\n",
      "   test-auc-mean  test-auc-std  train-auc-mean  train-auc-std\n",
      "0       0.958324      0.022606        0.979956       0.007685\n",
      "1       0.966253      0.018805        0.988278       0.003937\n",
      "2       0.970195      0.020104        0.990995       0.003789\n",
      "3       0.971355      0.020751        0.991378       0.003442\n",
      "4       0.973570      0.021458        0.992509       0.002997\n",
      "5       0.973845      0.020989        0.992885       0.002651\n",
      "6       0.973614      0.021561        0.993013       0.002430\n",
      "7       0.976208      0.022294        0.994394       0.001978\n",
      "8       0.976209      0.022679        0.994716       0.002181\n",
      "9       0.978444      0.018991        0.995021       0.002238\n",
      "cross-validation model accuracy on train dataset:  0.9784442\n",
      "cross_validation - END\n",
      "train_model - START\n",
      "train_model - END\n",
      "run_prediction - START\n",
      "run_prediction - END\n",
      "model_evaluation_on_test - START\n",
      "model accuracy on test dataset:  0.956140350877\n",
      "model_evaluation_on_test - END\n",
      "feature_importance - START\n"
     ]
    },
    {
     "data": {
      "image/png": "[encoded data removed]",
      "text/plain": [
       "<matplotlib.figure.Figure at 0x1a13d8a590>"
      ]
     },
     "metadata": {},
     "output_type": "display_data"
    },
    {
     "name": "stdout",
     "output_type": "stream",
     "text": [
      "feature_importance - END\n"
     ]
    }
   ],
   "source": [
    "def xgboost_binary_classification():\n",
    "    data = run_load_data()\n",
    "    train_df, test_df = run_train_test_split(data) # Don't have to run this if you given data is already splitted into train & test\n",
    "    train_df, test_df = run_pre_processing(train_df, test_df)\n",
    "    X_train, y_train, X_test, y_test = run_x_y_split(train_df, test_df)\n",
    "    if over_sampling:\n",
    "        X_train, y_train = run_over_sampling(X_train, y_train)\n",
    "    best_learning_rate, best_max_depth, best_n_estimators, best_gamma, best_colsample_bytree,  best_colsample_bylevel = run_grid_search(X_train, y_train)\n",
    "    run_cross_validation(X_train, y_train, best_learning_rate, best_max_depth, best_n_estimators, best_gamma, best_colsample_bytree, best_colsample_bylevel)\n",
    "    model = run_train_model(X_train, y_train, best_learning_rate, best_max_depth, best_n_estimators, best_gamma, best_colsample_bytree, best_colsample_bylevel)\n",
    "    prediction = run_prediction(model, X_test)\n",
    "    run_model_evaluation_on_test(prediction, y_test)\n",
    "    run_feature_importance(model)\n",
    "xgboost_binary_classification()"
   ]
  },
  {
   "cell_type": "code",
   "execution_count": null,
   "metadata": {
    "collapsed": true
   },
   "outputs": [],
   "source": []
  }
 ],
 "metadata": {
  "kernelspec": {
   "display_name": "Python 2",
   "language": "python",
   "name": "python2"
  },
  "language_info": {
   "codemirror_mode": {
    "name": "ipython",
    "version": 2
   },
   "file_extension": ".py",
   "mimetype": "text/x-python",
   "name": "python",
   "nbconvert_exporter": "python",
   "pygments_lexer": "ipython2",
   "version": "2.7.14"
  }
 },
 "nbformat": 4,
 "nbformat_minor": 2
}
