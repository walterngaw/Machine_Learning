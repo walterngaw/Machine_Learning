{
 "cells": [
  {
   "cell_type": "markdown",
   "metadata": {},
   "source": [
    "# Model Ensembling\n",
    "Blog Reference: https://mlwave.com/kaggle-ensembling-guide/\n",
    "\n",
    "Github Referemce: https://github.com/MLWave/Kaggle-Ensemble-Guide"
   ]
  },
  {
   "cell_type": "code",
   "execution_count": 20,
   "metadata": {},
   "outputs": [
    {
     "name": "stdout",
     "output_type": "stream",
     "text": [
      "parsing: input/prediction_binary_classification_knn.csv\n",
      "parsing: input/prediction_binary_classification_xgboost.csv\n",
      "parsing: input/prediction_binary_classification_ann.csv\n",
      "wrote to output/prediction_binary_classification_vote.csv\n"
     ]
    }
   ],
   "source": [
    "from collections import defaultdict, Counter\n",
    "from glob import glob\n",
    "import sys\n",
    "import re\n",
    "\n",
    "glob_files = \"input/prediction_binary_classification*.csv\" \n",
    "loc_outfile = \"output/prediction_binary_classification_vote.csv\"\n",
    "weights_strategy = \"uniform\"\n",
    "\n",
    "def kaggle_bag(glob_files, loc_outfile, method=\"average\", weights=\"uniform\"):\n",
    "  pattern = re.compile(r\"(.)*_[w|W](\\d*)_[.]*\")\n",
    "  if method == \"average\":\n",
    "    scores = defaultdict(list)\n",
    "  with open(loc_outfile,\"w\") as outfile:\n",
    "    #weight_list may be usefull using a different method\n",
    "    weight_list = [1]*len(glob(glob_files))\n",
    "    for i, glob_file in enumerate( glob(glob_files) ):\n",
    "      print(\"parsing: {}\".format(glob_file))\n",
    "      if weights == \"weighted\":\n",
    "         weight = pattern.match(glob_file)\n",
    "         if weight and weight.group(2):\n",
    "            print(\"Using weight: {}\".format(weight.group(2)))\n",
    "            weight_list[i] = weight_list[i]*int(weight.group(2))\n",
    "         else:\n",
    "            print(\"Using weight: 1\")\n",
    "      # sort glob_file by first column, ignoring the first line\n",
    "      lines = open(glob_file).readlines()\n",
    "      lines = [lines[0]] + sorted(lines[1:])\n",
    "      for e, line in enumerate( lines ):\n",
    "        if i == 0 and e == 0:\n",
    "          outfile.write(line)\n",
    "        if e > 0:\n",
    "          row = line.strip().split(\",\")\n",
    "          for l in range(1,weight_list[i]+1):\n",
    "            scores[(e,row[0])].append(row[1]) # For each id, put all values together \n",
    "    for j,k in sorted(scores):\n",
    "      outfile.write(\"%s,%s\\n\"%(k,Counter(scores[(j,k)]).most_common(1)[0][0])) # For each id, find most common\n",
    "    print(\"wrote to {}\".format(loc_outfile))\n",
    "\n",
    "kaggle_bag(glob_files, loc_outfile, weights=weights_strategy)"
   ]
  },
  {
   "cell_type": "code",
   "execution_count": null,
   "metadata": {},
   "outputs": [],
   "source": []
  }
 ],
 "metadata": {
  "kernelspec": {
   "display_name": "Python 2",
   "language": "python",
   "name": "python2"
  },
  "language_info": {
   "codemirror_mode": {
    "name": "ipython",
    "version": 2
   },
   "file_extension": ".py",
   "mimetype": "text/x-python",
   "name": "python",
   "nbconvert_exporter": "python",
   "pygments_lexer": "ipython2",
   "version": "2.7.14"
  }
 },
 "nbformat": 4,
 "nbformat_minor": 2
}
