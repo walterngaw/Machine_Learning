{
 "cells": [
  {
   "cell_type": "markdown",
   "metadata": {},
   "source": [
    "# Model Ensembling\n",
    "Blog Reference: https://mlwave.com/kaggle-ensembling-guide/\n",
    "\n",
    "Github Referemce: https://github.com/MLWave/Kaggle-Ensemble-Guide"
   ]
  },
  {
   "cell_type": "code",
   "execution_count": 1,
   "metadata": {},
   "outputs": [
    {
     "name": "stdout",
     "output_type": "stream",
     "text": [
      "Finding correlation between: input/prediction_binary_classification_ann.csv and input/prediction_binary_classification_knn.csv\n",
      "Column to be measured: Label\n",
      "Pearson's correlation score: 0.67898498636\n",
      "Kendall's correlation score: 0.666666666667\n",
      "Spearman's correlation score: 0.710526315789\n"
     ]
    }
   ],
   "source": [
    "import pandas as pd\n",
    "import sys\n",
    "\n",
    "first_file = \"input/prediction_binary_classification_ann.csv\" \n",
    "second_file = \"input/prediction_binary_classification_knn.csv\" \n",
    "\n",
    "def corr(first_file, second_file):\n",
    "  first_df = pd.read_csv(first_file,index_col=0)\n",
    "  second_df = pd.read_csv(second_file,index_col=0)\n",
    "  # assuming first column is `prediction_id` and second column is `prediction`\n",
    "  prediction = first_df.columns[0]\n",
    "  # correlation\n",
    "  print(\"Finding correlation between: {} and {}\".format(first_file,second_file))\n",
    "  print(\"Column to be measured: {}\".format(prediction))\n",
    "  print(\"Pearson's correlation score: {}\".format(first_df[prediction].corr(second_df[prediction],method='pearson')))\n",
    "  print(\"Kendall's correlation score: {}\".format(first_df[prediction].corr(second_df[prediction],method='kendall')))\n",
    "  print(\"Spearman's correlation score: {}\".format(first_df[prediction].corr(second_df[prediction],method='spearman')))\n",
    "\n",
    "corr(first_file, second_file)"
   ]
  },
  {
   "cell_type": "code",
   "execution_count": null,
   "metadata": {},
   "outputs": [],
   "source": []
  }
 ],
 "metadata": {
  "kernelspec": {
   "display_name": "Python 2",
   "language": "python",
   "name": "python2"
  },
  "language_info": {
   "codemirror_mode": {
    "name": "ipython",
    "version": 2
   },
   "file_extension": ".py",
   "mimetype": "text/x-python",
   "name": "python",
   "nbconvert_exporter": "python",
   "pygments_lexer": "ipython2",
   "version": "2.7.14"
  }
 },
 "nbformat": 4,
 "nbformat_minor": 2
}
