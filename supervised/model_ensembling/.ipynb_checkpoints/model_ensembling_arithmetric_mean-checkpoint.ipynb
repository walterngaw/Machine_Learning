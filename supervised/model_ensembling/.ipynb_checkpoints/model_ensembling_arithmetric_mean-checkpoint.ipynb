{
 "cells": [
  {
   "cell_type": "markdown",
   "metadata": {},
   "source": [
    "# Model Ensembling\n",
    "Blog Reference: https://mlwave.com/kaggle-ensembling-guide/\n",
    "\n",
    "Github Referemce: https://github.com/MLWave/Kaggle-Ensemble-Guide"
   ]
  },
  {
   "cell_type": "code",
   "execution_count": 33,
   "metadata": {},
   "outputs": [
    {
     "name": "stdout",
     "output_type": "stream",
     "text": [
      "parsing: input/prediction_binary_classification_knn.csv\n",
      "parsing: input/prediction_binary_classification_xgboost.csv\n",
      "parsing: input/prediction_binary_classification_ann.csv\n",
      "wrote to output/prediction_binary_classification_arithmean.csv\n"
     ]
    }
   ],
   "source": [
    "from collections import defaultdict\n",
    "from glob import glob\n",
    "import sys\n",
    "\n",
    "glob_files = \"input/prediction_binary_classification*.csv\" \n",
    "loc_outfile = \"output/prediction_binary_classification_arithmean.csv\"\n",
    "\n",
    "def kaggle_bag(glob_files, loc_outfile, method=\"average\", weights=\"uniform\"):\n",
    "  if method == \"average\":\n",
    "    scores = defaultdict(float)\n",
    "  with open(loc_outfile,\"w\") as outfile:\n",
    "    for i, glob_file in enumerate( glob(glob_files) ):\n",
    "      print(\"parsing: {}\".format(glob_file))\n",
    "      # sort glob_file by first column, ignoring the first line\n",
    "      lines = open(glob_file).readlines()\n",
    "      lines = [lines[0]] + sorted(lines[1:])\n",
    "      for e, line in enumerate( lines ):\n",
    "        if i == 0 and e == 0:\n",
    "          outfile.write(line)\n",
    "        if e > 0:\n",
    "          row = line.strip().split(\",\")\n",
    "          scores[(e,row[0])] += float(row[1]) # summation of values for each id for every file\n",
    "    for j,k in sorted(scores):\n",
    "      outfile.write(\"%s,%f\\n\"%(k,scores[(j,k)]/(i+1)))\n",
    "    print(\"wrote to {}\".format(loc_outfile))\n",
    "\n",
    "kaggle_bag(glob_files, loc_outfile)"
   ]
  },
  {
   "cell_type": "code",
   "execution_count": null,
   "metadata": {},
   "outputs": [],
   "source": []
  }
 ],
 "metadata": {
  "kernelspec": {
   "display_name": "Python 2",
   "language": "python",
   "name": "python2"
  },
  "language_info": {
   "codemirror_mode": {
    "name": "ipython",
    "version": 2
   },
   "file_extension": ".py",
   "mimetype": "text/x-python",
   "name": "python",
   "nbconvert_exporter": "python",
   "pygments_lexer": "ipython2",
   "version": "2.7.14"
  }
 },
 "nbformat": 4,
 "nbformat_minor": 2
}
