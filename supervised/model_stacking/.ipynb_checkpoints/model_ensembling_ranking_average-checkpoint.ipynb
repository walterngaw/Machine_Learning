{
 "cells": [
  {
   "cell_type": "markdown",
   "metadata": {},
   "source": [
    "# Model Ensembling\n",
    "Blog Reference: https://mlwave.com/kaggle-ensembling-guide/\n",
    "\n",
    "Github Referemce: https://github.com/MLWave/Kaggle-Ensemble-Guide"
   ]
  },
  {
   "cell_type": "code",
   "execution_count": 1,
   "metadata": {},
   "outputs": [
    {
     "name": "stdout",
     "output_type": "stream",
     "text": [
      "parsing: input/prediction_binary_classification_knn.csv\n",
      "parsing: input/prediction_binary_classification_xgboost.csv\n",
      "parsing: input/prediction_binary_classification_ann.csv\n",
      "wrote to output/prediction_binary_classification_ranking_average.csv\n"
     ]
    }
   ],
   "source": [
    "from __future__ import division\n",
    "from collections import defaultdict\n",
    "from glob import glob\n",
    "import sys\n",
    "\n",
    "glob_files = \"input/prediction_binary_classification*.csv\" \n",
    "loc_outfile = \"output/prediction_binary_classification_ranking_average.csv\"\n",
    "\n",
    "def kaggle_bag(glob_files, loc_outfile):\n",
    "  with open(loc_outfile,\"w\") as outfile:\n",
    "    all_ranks = defaultdict(list)\n",
    "    for i, glob_file in enumerate( glob(glob_files) ):\n",
    "      file_ranks = []\n",
    "      print(\"parsing: {}\".format(glob_file))\n",
    "      # sort glob_file by first column, ignoring the first line\n",
    "      lines = open(glob_file).readlines()\n",
    "      lines = [lines[0]] + sorted(lines[1:])\n",
    "      for e, line in enumerate( lines ):\n",
    "        if e == 0 and i == 0:\n",
    "          outfile.write( line )\n",
    "        elif e > 0:\n",
    "          r = line.strip().split(\",\")\n",
    "          file_ranks.append( (float(r[1]), e, r[0]) )\n",
    "      for rank, item in enumerate( sorted(file_ranks) ):\n",
    "        all_ranks[(item[1],item[2])].append(rank)\n",
    "    average_ranks = []\n",
    "    for k in sorted(all_ranks):\n",
    "      average_ranks.append((sum(all_ranks[k])/len(all_ranks[k]),k))\n",
    "    ranked_ranks = []\n",
    "    for rank, k in enumerate(sorted(average_ranks)):\n",
    "      ranked_ranks.append((k[1][0],k[1][1],rank/(len(average_ranks)-1)))\n",
    "    for k in sorted(ranked_ranks):\n",
    "      outfile.write(\"%s,%s\\n\"%(k[1],k[2]))\n",
    "    print(\"wrote to {}\".format(loc_outfile))\n",
    "\n",
    "kaggle_bag(glob_files, loc_outfile)"
   ]
  },
  {
   "cell_type": "code",
   "execution_count": null,
   "metadata": {},
   "outputs": [],
   "source": []
  }
 ],
 "metadata": {
  "kernelspec": {
   "display_name": "Python 2",
   "language": "python",
   "name": "python2"
  },
  "language_info": {
   "codemirror_mode": {
    "name": "ipython",
    "version": 2
   },
   "file_extension": ".py",
   "mimetype": "text/x-python",
   "name": "python",
   "nbconvert_exporter": "python",
   "pygments_lexer": "ipython2",
   "version": "2.7.14"
  }
 },
 "nbformat": 4,
 "nbformat_minor": 2
}
