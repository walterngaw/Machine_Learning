{
 "cells": [
  {
   "cell_type": "code",
   "execution_count": 217,
   "metadata": {},
   "outputs": [],
   "source": [
    "import os\n",
    "import pandas as pd\n",
    "import numpy as np\n",
    "import matplotlib.pyplot as plt\n",
    "import time\n",
    "\n",
    "from sklearn.cluster import KMeans\n",
    "from sklearn.preprocessing import Imputer, StandardScaler\n",
    "from sklearn.model_selection import train_test_split, GridSearchCV\n",
    "from sklearn.metrics import accuracy_score\n",
    "import xgboost as xgb\n",
    "\n",
    "from sklearn.datasets import load_boston"
   ]
  },
  {
   "cell_type": "code",
   "execution_count": 1,
   "metadata": {},
   "outputs": [],
   "source": [
    "GOAL = ['target']\n",
    "FEATURES = ['CRIM', 'ZN', 'INDUS', 'CHAS', 'NOX', 'RM', 'AGE',\n",
    "            'DIS', 'RAD', 'TAX', 'PTRATIO', 'B', 'LSTAT']\n",
    "IGNORED_FEATURES = [] # a placeholder for irrelevant features\n",
    "TRAIN_FEATURES = list(set([c for c in FEATURES if c not in IGNORED_FEATURES]))\n",
    "CATEGORICAL_FEATURES = [] \n",
    "# K-Means cannot handle categorical variables as it is distance based\n",
    "# https://www.kaggle.com/general/19741"
   ]
  },
  {
   "cell_type": "code",
   "execution_count": 8,
   "metadata": {},
   "outputs": [],
   "source": [
    "def run_load_data():\n",
    "    print ('load_data - START')\n",
    "    breast_cancer = load_boston()\n",
    "    data = pd.DataFrame(data= breast_cancer['data'],\n",
    "                        columns= ['CRIM', 'ZN', 'INDUS', 'CHAS', 'NOX', 'RM', 'AGE', 'DIS', 'RAD', 'TAX', 'PTRATIO', 'B', 'LSTAT'] \n",
    "                        )\n",
    "    \n",
    "    print ('load_data - END')\n",
    "    return data"
   ]
  },
  {
   "cell_type": "code",
   "execution_count": 9,
   "metadata": {},
   "outputs": [],
   "source": [
    "def run_random_replace_data_with_nan(data):\n",
    "    print ('random_replace_data_with_nan - START')\n",
    "    np.random.seed(100)\n",
    "    mask = np.random.choice([True, False], size=data.shape)\n",
    "    mask[mask.all(1),-1] = 0\n",
    "    data = data.mask(mask)\n",
    "    print ('random_replace_data_with_nan - END')\n",
    "    return data"
   ]
  },
  {
   "cell_type": "code",
   "execution_count": 25,
   "metadata": {},
   "outputs": [],
   "source": [
    "def run_add_uuid(data):\n",
    "    uuid = pd.DataFrame(list(range(0, data.shape[0])),columns = ['uuid'])\n",
    "    data = pd.concat([data, uuid], axis=1)\n",
    "    return data"
   ]
  },
  {
   "cell_type": "code",
   "execution_count": 154,
   "metadata": {},
   "outputs": [],
   "source": [
    "def run_k_means_pre_processing(data):\n",
    "    print ('k_means_pre_processing - START') \n",
    "    uuid = pd.DataFrame(data.loc[:,'uuid'], columns = ['uuid']) # Extract uuid column\n",
    "    data = data.drop('uuid', 1) # Drop uuid column before pre-processing\n",
    "    for f in FEATURES:\n",
    "        # Fill NULL with Mean / Median / -1\n",
    "        imp = Imputer(missing_values='NaN', strategy='median',axis=0, copy=False)\n",
    "        data[f] = imp.fit_transform(data[f].values.reshape(-1,1))\n",
    "        # Scale data using StandardScaler\n",
    "        scaler = StandardScaler()\n",
    "        data[f] = scaler.fit_transform(data[f].values.reshape(-1,1))\n",
    "    # K-Means cannot handle categorical variables as it is distance based\n",
    "    k_means_processed_data = data\n",
    "    print ('k_means_pre_processing - END') \n",
    "    return k_means_processed_data, uuid"
   ]
  },
  {
   "cell_type": "code",
   "execution_count": 153,
   "metadata": {},
   "outputs": [],
   "source": [
    "def run_xgb_pre_processing(data):\n",
    "    print ('xgb_pre_processing - START') \n",
    "    uuid = pd.DataFrame(data.loc[:,'uuid'], columns = ['uuid']) # Extract uuid column\n",
    "    data = data.drop('uuid', 1) # Drop uuid column before pre-processing\n",
    "    for f in FEATURES:\n",
    "        # Fill NULL with Mean / Median / -1\n",
    "        imp = Imputer(missing_values='NaN', strategy='median',axis=0, copy=False)\n",
    "        data[f] = imp.fit_transform(data[f].values.reshape(-1,1))\n",
    "    xgb_processed_data = data\n",
    "    print ('xgb_pre_processing - END') \n",
    "    return xgb_processed_data, uuid"
   ]
  },
  {
   "cell_type": "code",
   "execution_count": 138,
   "metadata": {},
   "outputs": [],
   "source": [
    "def run_elbow_method(data):\n",
    "    print ('elbow_method - START') \n",
    "    ##Using Elbow Method to find the optimal number of clusters\n",
    "    wcss = []\n",
    "    for i in range(1,11):\n",
    "        kmeans = KMeans(n_clusters = i, init = 'k-means++', max_iter = 300, n_init = 10, random_state = 0) #Fit K-Means into data x. Use k-means++ to avoid falling into random initializatoin trap. max_iter = maximum iterations to find the clusters. n_init = number of times the algo will run with different initial centroids. Remove random_state for production.\n",
    "        kmeans.fit(data) #Fit kmeans to matrix x\n",
    "        wcss.append(kmeans.inertia_) #Inertia is another name for WCSS\n",
    "    plt.plot(range(1,11),wcss)\n",
    "    plt.title('The Elbow Method')\n",
    "    plt.xlabel('Number of clusters')\n",
    "    plt.ylabel('WCSS')\n",
    "    plt.show()\n",
    "    print ('elbow_method - END') "
   ]
  },
  {
   "cell_type": "code",
   "execution_count": 139,
   "metadata": {},
   "outputs": [],
   "source": [
    "def run_k_means_clustering(cluster_number, k_means_processed_data, uuid):\n",
    "    print ('k_means_clustering - START') \n",
    "    kmeans = KMeans(n_clusters = 5, init = 'k-means++', max_iter = 300, n_init = 10, random_state = 0)\n",
    "    cluster_label = kmeans.fit_predict(k_means_processed_data) #Fitting k-means onto matrix x, where y_kmeans is the cluster number.\n",
    "    cluster_label = pd.DataFrame(cluster_label.reshape(-1,1), columns = ['cluster_label'])\n",
    "    k_means_processed_data = pd.concat([k_means_processed_data, cluster_label, uuid], axis=1)\n",
    "    print ('k_means_clustering - END') \n",
    "    return k_means_processed_data"
   ]
  },
  {
   "cell_type": "code",
   "execution_count": 140,
   "metadata": {},
   "outputs": [],
   "source": [
    "def run_extract_uuid_and_label(k_means_processed_data):\n",
    "    print ('extract_uuid_and_label - START')\n",
    "    uuid_and_label = pd.DataFrame(k_means_processed_data.loc[:,['uuid','cluster_label']]) # Extract uuid column\n",
    "    if not os.path.exists('output/'):\n",
    "        os.makedirs('output')\n",
    "    uuid_and_label.to_csv(os.path.join('output', 'uuid_and_label.csv'), sep=',', index=False)\n",
    "    print ('extract_uuid_and_label - END')"
   ]
  },
  {
   "cell_type": "code",
   "execution_count": 253,
   "metadata": {},
   "outputs": [],
   "source": [
    "def run_cluster_analytics(k_means_processed_data):\n",
    "    print ('cluster_analytics - START')    \n",
    "    print(k_means_processed_data.groupby('cluster_label').size())\n",
    "    print ('cluster_analytics - END')        "
   ]
  },
  {
   "cell_type": "code",
   "execution_count": 239,
   "metadata": {},
   "outputs": [],
   "source": [
    "def run_xgboost_cluster_feature_importance(k_means_processed_data, xgb_processed_data, cluster_number, title):\n",
    "    dummies = pd.get_dummies(k_means_processed_data['cluster_label']) # Extract cluster label as dummies\n",
    "    goal = pd.DataFrame(dummies.loc[:,cluster_number]) # Obtain goal from dummies\n",
    "    data = pd.concat([xgb_processed_data, goal], axis=1) # Concat goal and data\n",
    "    data.rename(columns={cluster_number: \"target\"}, inplace=True)\n",
    "\n",
    "    print ('train_test_split - START')    \n",
    "    train_df, test_df = train_test_split(data, test_size=0.2, random_state=42)\n",
    "    print ('train_test_split - END')\n",
    "    \n",
    "    print ('x_y_split - START')\n",
    "    X_train = train_df[TRAIN_FEATURES]\n",
    "    y_train = train_df[GOAL]\n",
    "    X_test = test_df[TRAIN_FEATURES]\n",
    "    y_test = test_df[GOAL]    \n",
    "    print ('x_y_split - END') \n",
    "    \n",
    "    print ('grid_search - START')\n",
    "    dmatrix = xgb.DMatrix(data=X_train, label=y_train)\n",
    "    gbm_param_grid = {\n",
    "        'learning_rate': [0.1, 0.05],\n",
    "        'max_depth': [3, 4],\n",
    "        'n_estimators': [500, 750],\n",
    "        'subsample': [0.5, 0.75],\n",
    "        'colsample_bytree': [0.5, 0.75]\n",
    "    }\n",
    "    \n",
    "    gbm = xgb.XGBClassifier()\n",
    "    \n",
    "    # Perform grid search\n",
    "    grid = GridSearchCV(estimator=gbm, param_grid=gbm_param_grid,\n",
    "                            scoring='roc_auc', cv=5, verbose=1)\n",
    "    grid.fit(X_train, y_train.values.ravel()) # Using values.ravel() to change to 1D array - https://stackoverflow.com/questions/42928855/gridsearchcv-error-too-many-indices-in-the-array\n",
    "\n",
    "    # Print the best parameters & metric\n",
    "    print(\"Best parameters found: \", grid.best_params_)\n",
    "    print(\"Best AUC found: \", grid.best_score_)\n",
    "    \n",
    "    best_learning_rate = grid.best_params_[\"learning_rate\"]\n",
    "    best_max_depth = grid.best_params_[\"max_depth\"]\n",
    "    best_n_estimators = grid.best_params_[\"n_estimators\"]    \n",
    "    best_sub_sample = grid.best_params_[\"subsample\"]   \n",
    "    best_colsample_bytree = grid.best_params_[\"colsample_bytree\"]      \n",
    "    print ('grid_search - END') \n",
    "\n",
    "    print ('cross_validation - START')\n",
    "    dmatrix = xgb.DMatrix(data=X_train, label=y_train)\n",
    "    params = {\"objective\":\"binary:logistic\", \n",
    "              \"learning_rate\":best_learning_rate,\n",
    "              \"max_depth\":best_max_depth,\n",
    "              \"n_estimators\":best_n_estimators,\n",
    "              \"subsample\":best_sub_sample,\n",
    "              \"colsample_bytree\":best_colsample_bytree\n",
    "             }\n",
    "    \n",
    "    print(dmatrix)\n",
    "    \n",
    "    cv_results = xgb.cv(dtrain=dmatrix,\n",
    "                        params=params,\n",
    "                        nfold=5,\n",
    "                        stratified=True,\n",
    "                        num_boost_round=10,\n",
    "                        metrics=\"auc\",\n",
    "                        as_pandas=True,\n",
    "                        seed=123)\n",
    "    print(cv_results)\n",
    "    model_evaluation_metric = cv_results[\"test-auc-mean\"].iloc[-1]\n",
    "    print \"cross-validation model accuracy on train dataset: \", model_evaluation_metric\n",
    "    print ('cross_validation - END')\n",
    "    \n",
    "    print ('train_model - START')    \n",
    "    model = xgb.XGBClassifier(objective='binary:logistic',\n",
    "                              learning_rate=best_learning_rate,\n",
    "                              max_depth=best_max_depth,\n",
    "                              n_estimators=best_n_estimators,\n",
    "                              subsample=best_sub_sample,\n",
    "                              colsample_bytree=best_colsample_bytree,\n",
    "                              silent=True,\n",
    "                              seed=123\n",
    "                             )\n",
    "    \n",
    "    model.fit(X_train, y_train)\n",
    "    print ('train_model - END')       \n",
    "    \n",
    "    print ('run_prediction - START')  \n",
    "    prediction = model.predict(data=X_test)\n",
    "    print ('run_prediction - END')  \n",
    "    \n",
    "    print ('model_evaluation_on_test - START') \n",
    "    prediction = pd.DataFrame(data = prediction, index=y_test.index, columns = ['target'])\n",
    "    model_evaluation_metric = accuracy_score(y_test, prediction)\n",
    "    print \"model accuracy on test dataset: \", model_evaluation_metric\n",
    "    print ('model_evaluation_on_test - END')\n",
    "    \n",
    "    print ('feature_importance - START')\n",
    "    if not os.path.exists('output/'):\n",
    "        os.makedirs('output')\n",
    "    xgb.plot_importance(booster=model, max_num_features = 10) # Show top 10 features\n",
    "    plt.title(title)\n",
    "    plt.xlabel('Relative Importance')\n",
    "    plt.ylabel('Features')\n",
    "    plt.tight_layout()\n",
    "    plt.savefig('output/feature_importance_{}.png'.format(title), dpi=150)\n",
    "    plt.show()\n",
    "    print ('feature_importance - END')      "
   ]
  },
  {
   "cell_type": "code",
   "execution_count": 245,
   "metadata": {},
   "outputs": [
    {
     "name": "stdout",
     "output_type": "stream",
     "text": [
      "load_data - START\n",
      "load_data - END\n",
      "random_replace_data_with_nan - START\n",
      "random_replace_data_with_nan - END\n",
      "k_means_pre_processing - START\n",
      "k_means_pre_processing - END\n",
      "elbow_method - START\n"
     ]
    },
    {
     "data": {
      "image/png": "[encoded data removed]",
      "text/plain": [
       "<matplotlib.figure.Figure at 0x1a1708efd0>"
      ]
     },
     "metadata": {},
     "output_type": "display_data"
    },
    {
     "name": "stdout",
     "output_type": "stream",
     "text": [
      "elbow_method - END\n",
      "('elapsed_time (in seconds): ', 0.7448198795318604)\n"
     ]
    }
   ],
   "source": [
    "def find_cluster_number():\n",
    "    start_time = time.time()\n",
    "    data = run_load_data()\n",
    "    data = run_random_replace_data_with_nan(data) # This step is not needed in real problem. Missing data should already be NaN.\n",
    "    data = run_add_uuid(data) # This step is not needed in real problem. Uuid column should already be included in data.\n",
    "    k_means_processed_data, uuid = run_k_means_pre_processing(data)\n",
    "    run_elbow_method(k_means_processed_data)\n",
    "    #k = 5 is optimal\n",
    "    print('elapsed_time (in seconds): ', time.time() - start_time)\n",
    "find_cluster_number()"
   ]
  },
  {
   "cell_type": "code",
   "execution_count": 255,
   "metadata": {
    "scrolled": false
   },
   "outputs": [
    {
     "name": "stdout",
     "output_type": "stream",
     "text": [
      "load_data - START\n",
      "load_data - END\n",
      "random_replace_data_with_nan - START\n",
      "random_replace_data_with_nan - END\n",
      "k_means_pre_processing - START\n",
      "k_means_pre_processing - END\n",
      "k_means_clustering - START\n",
      "k_means_clustering - END\n",
      "extract_uuid_and_label - START\n",
      "extract_uuid_and_label - END\n",
      "cluster_analytics - START\n",
      "cluster_label\n",
      "0     55\n",
      "1     65\n",
      "2    269\n",
      "3    101\n",
      "4     16\n",
      "dtype: int64\n",
      "cluster_analytics - END\n",
      "xgb_pre_processing - START\n",
      "xgb_pre_processing - END\n",
      "train_test_split - START\n",
      "train_test_split - END\n",
      "x_y_split - START\n",
      "x_y_split - END\n",
      "grid_search - START\n",
      "Fitting 5 folds for each of 32 candidates, totalling 160 fits\n"
     ]
    },
    {
     "name": "stderr",
     "output_type": "stream",
     "text": [
      "[Parallel(n_jobs=1)]: Done 160 out of 160 | elapsed:   11.4s finished\n",
      "/anaconda2/lib/python2.7/site-packages/sklearn/preprocessing/label.py:151: DeprecationWarning: The truth value of an empty array is ambiguous. Returning False, but in future this will result in an error. Use `array.size > 0` to check that an array is not empty.\n",
      "  if diff:\n"
     ]
    },
    {
     "name": "stdout",
     "output_type": "stream",
     "text": [
      "('Best parameters found: ', {'n_estimators': 500, 'subsample': 0.5, 'learning_rate': 0.1, 'colsample_bytree': 0.5, 'max_depth': 3})\n",
      "('Best AUC found: ', 0.9972153465346535)\n",
      "grid_search - END\n",
      "cross_validation - START\n",
      "<xgboost.core.DMatrix object at 0x1a16f1b710>\n",
      "   test-auc-mean  test-auc-std  train-auc-mean  train-auc-std\n",
      "0       0.939506      0.044375        0.973828       0.004623\n",
      "1       0.965741      0.027522        0.986700       0.006721\n",
      "2       0.961092      0.025830        0.991723       0.005280\n",
      "3       0.984542      0.008014        0.994468       0.003578\n",
      "4       0.988091      0.005096        0.994836       0.003128\n",
      "5       0.987937      0.006779        0.994469       0.003528\n",
      "6       0.987624      0.004968        0.995214       0.003469\n",
      "7       0.985776      0.004269        0.995824       0.002060\n",
      "8       0.983307      0.006095        0.996326       0.001775\n",
      "9       0.983298      0.006332        0.996346       0.001499\n",
      "cross-validation model accuracy on train dataset:  0.9832984\n",
      "cross_validation - END\n",
      "train_model - START\n",
      "train_model - END\n",
      "run_prediction - START\n",
      "run_prediction - END\n",
      "model_evaluation_on_test - START\n",
      "model accuracy on test dataset:  0.9803921568627451\n",
      "model_evaluation_on_test - END\n",
      "feature_importance - START\n"
     ]
    },
    {
     "data": {
      "image/png": "[encoded data removed]",
      "text/plain": [
       "<matplotlib.figure.Figure at 0x1a1706f4d0>"
      ]
     },
     "metadata": {},
     "output_type": "display_data"
    },
    {
     "name": "stdout",
     "output_type": "stream",
     "text": [
      "feature_importance - END\n",
      "train_test_split - START\n",
      "train_test_split - END\n",
      "x_y_split - START\n",
      "x_y_split - END\n",
      "grid_search - START\n",
      "Fitting 5 folds for each of 32 candidates, totalling 160 fits\n"
     ]
    },
    {
     "name": "stderr",
     "output_type": "stream",
     "text": [
      "[Parallel(n_jobs=1)]: Done 160 out of 160 | elapsed:   10.1s finished\n",
      "/anaconda2/lib/python2.7/site-packages/sklearn/preprocessing/label.py:151: DeprecationWarning: The truth value of an empty array is ambiguous. Returning False, but in future this will result in an error. Use `array.size > 0` to check that an array is not empty.\n",
      "  if diff:\n"
     ]
    },
    {
     "name": "stdout",
     "output_type": "stream",
     "text": [
      "('Best parameters found: ', {'n_estimators': 500, 'subsample': 0.5, 'learning_rate': 0.1, 'colsample_bytree': 0.5, 'max_depth': 4})\n",
      "('Best AUC found: ', 0.9980232882443173)\n",
      "grid_search - END\n",
      "cross_validation - START\n",
      "<xgboost.core.DMatrix object at 0x1a170782d0>\n",
      "   test-auc-mean  test-auc-std  train-auc-mean  train-auc-std\n",
      "0       0.767769      0.069855        0.833487       0.018538\n",
      "1       0.903662      0.093442        0.924268       0.063822\n",
      "2       0.918704      0.067976        0.932830       0.053888\n",
      "3       0.948732      0.051787        0.962235       0.040338\n",
      "4       0.954929      0.047243        0.964232       0.037733\n",
      "5       0.964789      0.050547        0.977500       0.024863\n",
      "6       0.976901      0.031877        0.989612       0.011444\n",
      "7       0.985634      0.020243        0.997156       0.002446\n",
      "8       0.984789      0.021050        0.997925       0.001714\n",
      "9       0.993803      0.010411        0.999268       0.000267\n",
      "cross-validation model accuracy on train dataset:  0.9938027999999999\n",
      "cross_validation - END\n",
      "train_model - START\n",
      "train_model - END\n",
      "run_prediction - START\n",
      "run_prediction - END\n",
      "model_evaluation_on_test - START\n",
      "model accuracy on test dataset:  0.9901960784313726\n",
      "model_evaluation_on_test - END\n",
      "feature_importance - START\n"
     ]
    },
    {
     "data": {
      "image/png": "[encoded data removed]",
      "text/plain": [
       "<matplotlib.figure.Figure at 0x1a16610950>"
      ]
     },
     "metadata": {},
     "output_type": "display_data"
    },
    {
     "name": "stdout",
     "output_type": "stream",
     "text": [
      "feature_importance - END\n",
      "train_test_split - START\n",
      "train_test_split - END\n",
      "x_y_split - START\n",
      "x_y_split - END\n",
      "grid_search - START\n",
      "Fitting 5 folds for each of 32 candidates, totalling 160 fits\n"
     ]
    },
    {
     "name": "stderr",
     "output_type": "stream",
     "text": [
      "[Parallel(n_jobs=1)]: Done 160 out of 160 | elapsed:   17.5s finished\n"
     ]
    },
    {
     "name": "stdout",
     "output_type": "stream",
     "text": [
      "('Best parameters found: ', {'n_estimators': 500, 'subsample': 0.75, 'learning_rate': 0.05, 'colsample_bytree': 0.5, 'max_depth': 4})\n",
      "('Best AUC found: ', 0.985318612330319)\n",
      "grid_search - END\n",
      "cross_validation - START\n",
      "<xgboost.core.DMatrix object at 0x1a16caafd0>\n",
      "   test-auc-mean  test-auc-std  train-auc-mean  train-auc-std\n",
      "0       0.765980      0.083296        0.824992       0.031404\n",
      "1       0.842010      0.074920        0.896805       0.030556\n",
      "2       0.890292      0.062407        0.938419       0.025375\n",
      "3       0.908902      0.055989        0.955656       0.017249\n",
      "4       0.918605      0.047326        0.962663       0.010300\n",
      "5       0.922990      0.043161        0.968739       0.006564\n",
      "6       0.930386      0.043218        0.971965       0.004660\n",
      "7       0.944805      0.024967        0.976194       0.004916\n",
      "8       0.949252      0.023470        0.978068       0.005728\n",
      "9       0.952668      0.027856        0.981214       0.006006\n",
      "cross-validation model accuracy on train dataset:  0.9526680000000001\n",
      "cross_validation - END\n",
      "train_model - START\n",
      "train_model - END\n",
      "run_prediction - START\n",
      "run_prediction - END\n",
      "model_evaluation_on_test - START\n",
      "model accuracy on test dataset:  0.9607843137254902\n",
      "model_evaluation_on_test - END\n",
      "feature_importance - START\n"
     ]
    },
    {
     "name": "stderr",
     "output_type": "stream",
     "text": [
      "/anaconda2/lib/python2.7/site-packages/sklearn/preprocessing/label.py:151: DeprecationWarning: The truth value of an empty array is ambiguous. Returning False, but in future this will result in an error. Use `array.size > 0` to check that an array is not empty.\n",
      "  if diff:\n"
     ]
    },
    {
     "data": {
      "image/png": "[encoded data removed]",
      "text/plain": [
       "<matplotlib.figure.Figure at 0x1a16e121d0>"
      ]
     },
     "metadata": {},
     "output_type": "display_data"
    },
    {
     "name": "stdout",
     "output_type": "stream",
     "text": [
      "feature_importance - END\n",
      "train_test_split - START\n",
      "train_test_split - END\n",
      "x_y_split - START\n",
      "x_y_split - END\n",
      "grid_search - START\n",
      "Fitting 5 folds for each of 32 candidates, totalling 160 fits\n"
     ]
    },
    {
     "name": "stderr",
     "output_type": "stream",
     "text": [
      "[Parallel(n_jobs=1)]: Done 160 out of 160 | elapsed:   15.5s finished\n"
     ]
    },
    {
     "name": "stdout",
     "output_type": "stream",
     "text": [
      "('Best parameters found: ', {'n_estimators': 500, 'subsample': 0.75, 'learning_rate': 0.05, 'colsample_bytree': 0.75, 'max_depth': 3})\n",
      "('Best AUC found: ', 0.9881360491818413)\n",
      "grid_search - END\n",
      "cross_validation - START\n",
      "<xgboost.core.DMatrix object at 0x1a16433c50>\n",
      "   test-auc-mean  test-auc-std  train-auc-mean  train-auc-std\n",
      "0       0.794504      0.028005        0.841474       0.018634\n",
      "1       0.875628      0.039509        0.931016       0.028677\n",
      "2       0.912410      0.024202        0.955418       0.010814\n",
      "3       0.940395      0.032757        0.972667       0.013924\n",
      "4       0.949756      0.018252        0.980422       0.005165\n",
      "5       0.955583      0.017352        0.981783       0.005249\n",
      "6       0.954445      0.018655        0.982709       0.005390\n",
      "7       0.958930      0.019248        0.985495       0.002766\n",
      "8       0.962155      0.024107        0.986641       0.002879\n",
      "9       0.961496      0.025834        0.988986       0.001275\n",
      "cross-validation model accuracy on train dataset:  0.9614958\n",
      "cross_validation - END\n",
      "train_model - START\n",
      "train_model - END\n",
      "run_prediction - START\n",
      "run_prediction - END\n",
      "model_evaluation_on_test - START\n",
      "model accuracy on test dataset:  0.9705882352941176\n",
      "model_evaluation_on_test - END\n",
      "feature_importance - START\n"
     ]
    },
    {
     "name": "stderr",
     "output_type": "stream",
     "text": [
      "/anaconda2/lib/python2.7/site-packages/sklearn/preprocessing/label.py:151: DeprecationWarning: The truth value of an empty array is ambiguous. Returning False, but in future this will result in an error. Use `array.size > 0` to check that an array is not empty.\n",
      "  if diff:\n"
     ]
    },
    {
     "data": {
      "image/png": "[encoded data removed]",
      "text/plain": [
       "<matplotlib.figure.Figure at 0x1a1652dc50>"
      ]
     },
     "metadata": {},
     "output_type": "display_data"
    },
    {
     "name": "stdout",
     "output_type": "stream",
     "text": [
      "feature_importance - END\n",
      "train_test_split - START\n",
      "train_test_split - END\n",
      "x_y_split - START\n",
      "x_y_split - END\n",
      "grid_search - START\n",
      "Fitting 5 folds for each of 32 candidates, totalling 160 fits\n"
     ]
    },
    {
     "name": "stderr",
     "output_type": "stream",
     "text": [
      "[Parallel(n_jobs=1)]: Done 160 out of 160 | elapsed:    8.8s finished\n",
      "/anaconda2/lib/python2.7/site-packages/sklearn/preprocessing/label.py:151: DeprecationWarning: The truth value of an empty array is ambiguous. Returning False, but in future this will result in an error. Use `array.size > 0` to check that an array is not empty.\n",
      "  if diff:\n"
     ]
    },
    {
     "name": "stdout",
     "output_type": "stream",
     "text": [
      "('Best parameters found: ', {'n_estimators': 500, 'subsample': 0.5, 'learning_rate': 0.1, 'colsample_bytree': 0.5, 'max_depth': 3})\n",
      "('Best AUC found: ', 1.0)\n",
      "grid_search - END\n",
      "cross_validation - START\n",
      "<xgboost.core.DMatrix object at 0x1a16dc9490>\n",
      "   test-auc-mean  test-auc-std  train-auc-mean  train-auc-std\n",
      "0       0.584615      0.208285        0.663044       0.172235\n",
      "1       0.685897      0.256859        0.755280       0.201938\n",
      "2       0.775641      0.274850        0.897589       0.125466\n",
      "3       1.000000      0.000000        1.000000       0.000000\n",
      "4       0.997436      0.005128        0.999187       0.001355\n",
      "5       0.992308      0.010256        0.997793       0.004130\n",
      "6       0.993590      0.012820        0.998083       0.003834\n",
      "7       1.000000      0.000000        1.000000       0.000000\n",
      "8       1.000000      0.000000        1.000000       0.000000\n",
      "9       1.000000      0.000000        1.000000       0.000000\n",
      "cross-validation model accuracy on train dataset:  1.0\n",
      "cross_validation - END\n",
      "train_model - START\n",
      "train_model - END\n",
      "run_prediction - START\n",
      "run_prediction - END\n",
      "model_evaluation_on_test - START\n",
      "model accuracy on test dataset:  1.0\n",
      "model_evaluation_on_test - END\n",
      "feature_importance - START\n"
     ]
    },
    {
     "data": {
      "image/png": "[encoded data removed]",
      "text/plain": [
       "<matplotlib.figure.Figure at 0x1a16d9ef10>"
      ]
     },
     "metadata": {},
     "output_type": "display_data"
    },
    {
     "name": "stdout",
     "output_type": "stream",
     "text": [
      "feature_importance - END\n",
      "('elapsed_time (in seconds): ', 66.12076687812805)\n"
     ]
    }
   ],
   "source": [
    "def k_means_clustering():\n",
    "    cluster_number = 5 # Based on the largest drop in WCSS in previous function\n",
    "    start_time = time.time()\n",
    "    data = run_load_data()\n",
    "    data = run_random_replace_data_with_nan(data) # This step is not needed in real problem. Missing data should already be NaN.\n",
    "    data = run_add_uuid(data) # This step is not needed in real problem. Uuid column should already be included in data.\n",
    "    k_means_processed_data, uuid = run_k_means_pre_processing(data)\n",
    "    k_means_processed_data = run_k_means_clustering(cluster_number, k_means_processed_data, uuid)\n",
    "    run_extract_uuid_and_label(k_means_processed_data)\n",
    "    run_cluster_analytics(k_means_processed_data) # To find count of each cluster label\n",
    "    xgb_processed_data, uuid = run_xgb_pre_processing(data) # re-preprocessing as xgb doesn't need data to be scaled\n",
    "    run_xgboost_cluster_feature_importance(k_means_processed_data, xgb_processed_data, cluster_number = 0, title ='cluster_0') # Run xgboost feature importance for cluster 0\n",
    "    run_xgboost_cluster_feature_importance(k_means_processed_data, xgb_processed_data, cluster_number = 1, title ='cluster_1') # Run xgboost feature importance for cluster 1\n",
    "    run_xgboost_cluster_feature_importance(k_means_processed_data, xgb_processed_data, cluster_number = 2, title ='cluster_2') # Run xgboost feature importance for cluster 2\n",
    "    run_xgboost_cluster_feature_importance(k_means_processed_data, xgb_processed_data, cluster_number = 3, title ='cluster_3') # Run xgboost feature importance for cluster 3\n",
    "    run_xgboost_cluster_feature_importance(k_means_processed_data, xgb_processed_data, cluster_number = 4, title ='cluster_4') # Run xgboost feature importance for cluster 4\n",
    "    print('elapsed_time (in seconds): ', time.time() - start_time)\n",
    "k_means_clustering()"
   ]
  },
  {
   "cell_type": "code",
   "execution_count": null,
   "metadata": {},
   "outputs": [],
   "source": []
  }
 ],
 "metadata": {
  "kernelspec": {
   "display_name": "Python 2",
   "language": "python",
   "name": "python2"
  },
  "language_info": {
   "codemirror_mode": {
    "name": "ipython",
    "version": 2
   },
   "file_extension": ".py",
   "mimetype": "text/x-python",
   "name": "python",
   "nbconvert_exporter": "python",
   "pygments_lexer": "ipython2",
   "version": "2.7.14"
  }
 },
 "nbformat": 4,
 "nbformat_minor": 2
}
